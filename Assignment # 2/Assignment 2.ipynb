{
 "cells": [
  {
   "cell_type": "markdown",
   "id": "60d8bfa9",
   "metadata": {},
   "source": [
    "# Assignment 01\n",
    "String concatinating and formating"
   ]
  },
  {
   "cell_type": "code",
   "execution_count": 50,
   "id": "a8d7cbad",
   "metadata": {},
   "outputs": [
    {
     "name": "stdout",
     "output_type": "stream",
     "text": [
      "My name is Imran Haider. I am 27 My country name is Austraila.\n"
     ]
    }
   ],
   "source": [
    "name = \"Imran Haider\"\n",
    "age = 27\n",
    "country = \"Austraila\"\n",
    "\n",
    "string = \"My name is \" +name+ \". I am \" +str(age)+ \" My country name is \" +country+ \".\"\n",
    "print(string)"
   ]
  },
  {
   "cell_type": "markdown",
   "id": "d3f312b4",
   "metadata": {},
   "source": [
    "# Assignment 02\n",
    "String formating using format()"
   ]
  },
  {
   "cell_type": "code",
   "execution_count": 32,
   "id": "b45d5b6d",
   "metadata": {},
   "outputs": [
    {
     "name": "stdout",
     "output_type": "stream",
     "text": [
      "Total cost of total cellphones will be:\n",
      "560000\n",
      "\n",
      "I bought 4 Cell Phones's at 140000 each for a total of PKR 560000\n",
      "\n",
      "\n"
     ]
    }
   ],
   "source": [
    "item = 'Cell Phones'\n",
    "price = 140000\n",
    "quantity = 4\n",
    "\n",
    "total_amount = price * quantity\n",
    "\n",
    "string = \"\"\"\n",
    "I bought {} {}'s at {} each for a total of PKR {}\n",
    "\n",
    "\"\"\".format(quantity, item, price, total_amount)\n",
    "print(\"Total cost of total cellphones will be:\")\n",
    "print(total_amount)\n",
    "print(string)"
   ]
  },
  {
   "cell_type": "markdown",
   "id": "7af18295",
   "metadata": {},
   "source": [
    "# Assignment 03\n",
    "String interpolation using f"
   ]
  },
  {
   "cell_type": "code",
   "execution_count": 33,
   "id": "93b43d53",
   "metadata": {},
   "outputs": [
    {
     "name": "stdout",
     "output_type": "stream",
     "text": [
      "\n",
      "The temprature of Murree is 15C◦\n",
      "\n"
     ]
    }
   ],
   "source": [
    "city = \"Murree\"\n",
    "temp = 15\n",
    "\n",
    "string = f\"\"\"\n",
    "The temprature of {city} is {temp}C◦\n",
    "\"\"\"\n",
    "print(string)"
   ]
  },
  {
   "cell_type": "markdown",
   "id": "e72874db",
   "metadata": {},
   "source": [
    "# Assignment 04\n",
    "string formating using %()"
   ]
  },
  {
   "cell_type": "code",
   "execution_count": 26,
   "id": "98a59619",
   "metadata": {},
   "outputs": [
    {
     "name": "stdout",
     "output_type": "stream",
     "text": [
      "My name is Imran Haider. I am 26 years old.\n"
     ]
    }
   ],
   "source": [
    "firstname = \"Imran\"\n",
    "lastname = \"Haider\"\n",
    "birthyear = 1997\n",
    "currentyear = 2023\n",
    "\n",
    "age = currentyear - birthyear\n",
    "\n",
    "string = \"My name is %s %s. I am %d years old.\" %(firstname,lastname,age)\n",
    "print(string)"
   ]
  },
  {
   "cell_type": "markdown",
   "id": "acae891a",
   "metadata": {},
   "source": [
    "# Assignment 05\n",
    "Combining formating methods"
   ]
  },
  {
   "cell_type": "code",
   "execution_count": 40,
   "id": "def99711",
   "metadata": {},
   "outputs": [
    {
     "name": "stdout",
     "output_type": "stream",
     "text": [
      "\n",
      "Electronic Accessories\n",
      "Product Name \t\t : \t Samsung S10\n",
      "Discount Rate \t\t : \t 10 %\n",
      "Original Price \t\t : \t 110000 PKR\n",
      "Discounted Price \t : \t 99000.0 PKR\n",
      "\n"
     ]
    }
   ],
   "source": [
    "product_name = \"Samsung S10\"\n",
    "discount_price = 10\n",
    "original_price = 110000\n",
    "\n",
    "discounted_price = original_price*(1-discount_price/100)\n",
    "\n",
    "string= f\"\"\"\n",
    "Electronic Accessories\n",
    "Product Name \\t\\t : \\t {product_name}\n",
    "Discount Rate \\t\\t : \\t {discount_price} %\n",
    "Original Price \\t\\t : \\t {original_price} PKR\n",
    "Discounted Price \\t : \\t {discounted_price} PKR\n",
    "\"\"\"\n",
    "print(string)\n"
   ]
  },
  {
   "cell_type": "markdown",
   "id": "feae8c83",
   "metadata": {},
   "source": []
  },
  {
   "cell_type": "code",
   "execution_count": null,
   "id": "8e816ed0",
   "metadata": {},
   "outputs": [],
   "source": []
  }
 ],
 "metadata": {
  "kernelspec": {
   "display_name": "Python 3 (ipykernel)",
   "language": "python",
   "name": "python3"
  },
  "language_info": {
   "codemirror_mode": {
    "name": "ipython",
    "version": 3
   },
   "file_extension": ".py",
   "mimetype": "text/x-python",
   "name": "python",
   "nbconvert_exporter": "python",
   "pygments_lexer": "ipython3",
   "version": "3.9.13"
  }
 },
 "nbformat": 4,
 "nbformat_minor": 5
}
