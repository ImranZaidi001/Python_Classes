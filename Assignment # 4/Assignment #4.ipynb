{
 "cells": [
  {
   "cell_type": "markdown",
   "id": "c0282a4c",
   "metadata": {},
   "source": [
    "# Assignment # 4"
   ]
  },
  {
   "cell_type": "markdown",
   "id": "f67e8738",
   "metadata": {},
   "source": [
    "\n",
    "---\n",
    "\n",
    "## Advanced Regular Expression Assignments\n",
    "\n",
    "### Question 1: Extracting Phone Numbers\n",
    "\n",
    "**Raw Text:**\n",
    "Extract all valid Pakistani phone numbers from a given text.\n",
    "\n",
    "**Example:**\n",
    "```\n",
    "Text: Please contact me at 0301-1234567 or 042-35678901 for further details.\n",
    "```\n",
    "\n",
    "\n"
   ]
  },
  {
   "cell_type": "code",
   "execution_count": 30,
   "id": "ff49231f",
   "metadata": {},
   "outputs": [
    {
     "name": "stdout",
     "output_type": "stream",
     "text": [
      "Phone Number: 0301-1234567\n"
     ]
    }
   ],
   "source": [
    "#Answer\n",
    "import re\n",
    "\n",
    "text = \"Please contact me at 0301-1234567 or 042-35678901 for further details.\"\n",
    "pattern = r'\\b(0[1-9]\\d{1,3}-\\d{7}|\\(0[1-9]\\d{1,3}\\)\\d{7})\\b'\n",
    "matches = re.findall(pattern, text)\n",
    "for number in matches:\n",
    "    print(\"Phone Number:\", number)\n"
   ]
  },
  {
   "cell_type": "markdown",
   "id": "09d62dd0",
   "metadata": {},
   "source": [
    "---\n",
    "### Question 2: Validating Email Addresses\n",
    "\n",
    "**Raw Text:**\n",
    "Validate email addresses according to Pakistani domain extensions (.pk).\n",
    "\n",
    "**Example:**\n",
    "```\n",
    "Text: Contact us at info@example.com or support@domain.pk for assistance.\n",
    "```\n",
    "\n"
   ]
  },
  {
   "cell_type": "code",
   "execution_count": 34,
   "id": "345ee3b4",
   "metadata": {},
   "outputs": [
    {
     "name": "stdout",
     "output_type": "stream",
     "text": [
      "No valid email addresses with .pk domain found.\n"
     ]
    }
   ],
   "source": [
    "#Answer\n",
    "\n",
    "Text = \"\"\"Contact us at info@example.com  or support@domain.pk for assistance.\"\"\"\n",
    "\n",
    "\n",
    "pattern1 = r'\\b[A-Za-z0-9._%+-]+@[A-Za-z0-9.-]+\\.[A-Z|a-z]{2,7}\\b'\n",
    "pattern2 = r'\\b[A-Za-z0-9._%+-]+@[A-Za-z0-9.-]+.[pk|PK]\\b'\n",
    "\n",
    "print(re.findall(pattern1,Text,re.MULTILINE))\n",
    "print(re.findall(pattern2,Text,re.MULTILINE))"
   ]
  },
  {
   "cell_type": "markdown",
   "id": "0a5e4f60",
   "metadata": {},
   "source": [
    "---\n",
    "### Question 3: Extracting CNIC Numbers\n",
    "\n",
    "**Raw Text:**\n",
    "Extract all Pakistani CNIC (Computerized National Identity Card) numbers from a given text.\n",
    "\n",
    "**Example:**\n",
    "```\n",
    "Text: My CNIC is 12345-6789012-3 and another one is 34567-8901234-5.\n",
    "```\n"
   ]
  },
  {
   "cell_type": "code",
   "execution_count": 35,
   "id": "3e609a6c",
   "metadata": {},
   "outputs": [
    {
     "name": "stdout",
     "output_type": "stream",
     "text": [
      "['12345-6789012-3', '34567-8901234-5']\n"
     ]
    }
   ],
   "source": [
    "#Answer\n",
    "Text = \"\"\"My CNIC is 12345-6789012-3 and another one is 34567-8901234-5.\"\"\"\n",
    "pattern = r\"\\d{0,5}-\\d{0,7}-\\d{0,9}\"\n",
    "\n",
    "print(re.findall(pattern,Text,re.MULTILINE))"
   ]
  },
  {
   "cell_type": "markdown",
   "id": "32713d97",
   "metadata": {},
   "source": [
    "---\n",
    "### Question 4: Identifying Urdu Words\n",
    "\n",
    "**Raw Text:**\n",
    "Identify and extract Urdu words from a mixed English-Urdu text.\n",
    "\n",
    "**Example:**\n",
    "```\n",
    "Text: یہ sentence میں کچھ English words بھی ہیں۔\n",
    "```\n",
    "\n"
   ]
  },
  {
   "cell_type": "code",
   "execution_count": 13,
   "id": "f339a53b",
   "metadata": {},
   "outputs": [
    {
     "data": {
      "text/plain": [
       "['یہ ', ' میں کچھ ', ' ', ' بھی ہیں']"
      ]
     },
     "execution_count": 13,
     "metadata": {},
     "output_type": "execute_result"
    }
   ],
   "source": [
    "#Answer\n",
    "Text =\"\"\"یہ sentence میں کچھ English words بھی ہیں۔\"\"\"\n",
    "pattern= r'\\b[^s]+\\b'\n",
    "\n",
    "re.findall(pattern,Text,re.MULTILINE)"
   ]
  },
  {
   "cell_type": "markdown",
   "id": "c0993dc1",
   "metadata": {},
   "source": [
    "---\n",
    "### Question 5: Finding Dates\n",
    "\n",
    "**Raw Text:**\n",
    "Find and extract dates in the format DD-MM-YYYY from a given text.\n",
    "\n",
    "**Example:**\n",
    "```\n",
    "Text: The event will take place on 15-08-2023 and 23-09-2023.\n",
    "```\n",
    "\n"
   ]
  },
  {
   "cell_type": "code",
   "execution_count": 20,
   "id": "5f008e32",
   "metadata": {},
   "outputs": [
    {
     "data": {
      "text/plain": [
       "['15-08-2023', '23-09-2023']"
      ]
     },
     "execution_count": 20,
     "metadata": {},
     "output_type": "execute_result"
    }
   ],
   "source": [
    "#Answer\n",
    "Text = \"\"\"The event will take place on 15-08-2023 and 23-09-2023.\"\"\"\n",
    "pattern =  r\"\\d{1,2}-\\d{1,8}-\\d{1,4}\"\n",
    "\n",
    "re.findall(pattern,Text,re.MULTILINE)"
   ]
  },
  {
   "cell_type": "markdown",
   "id": "8f835b8d",
   "metadata": {},
   "source": [
    "---\n",
    "### Question 6: Extracting URLs\n",
    "\n",
    "**Raw Text:**\n",
    "Extract all URLs from a text that belong to Pakistani domains.\n",
    "\n",
    "**Example:**\n",
    "```\n",
    "Text: Visit http://www.example.pk or https://website.com.pk for more information.\n",
    "```\n",
    "\n"
   ]
  },
  {
   "cell_type": "code",
   "execution_count": 38,
   "id": "d3540f46",
   "metadata": {},
   "outputs": [
    {
     "name": "stdout",
     "output_type": "stream",
     "text": [
      "URL: https://website.com.pk\n"
     ]
    }
   ],
   "source": [
    "#Answer\n",
    "import re\n",
    "\n",
    "text = \"Visit http://www.example.pk or https://website.com.pk for more information.\"\n",
    "pattern = r'https?://[A-Za-z0-9.-]+\\.[A-Za-z]{2,4}\\.pk(?:/[A-Za-z0-9_]+)*'\n",
    "matches = re.findall(pattern, text)\n",
    "\n",
    "for url in matches:\n",
    "    print(\"URL:\", url)\n"
   ]
  },
  {
   "cell_type": "markdown",
   "id": "1e63c892",
   "metadata": {},
   "source": [
    "---\n",
    "### Question 7: Analyzing Currency\n",
    "\n",
    "**Raw Text:**\n",
    "Extract and analyze currency amounts in Pakistani Rupees (PKR) from a given text.\n",
    "\n",
    "**Example:**\n",
    "```\n",
    "Text: The product costs PKR 1500, while the deluxe version is priced at Rs. 2500.\n",
    "```\n",
    "\n"
   ]
  },
  {
   "cell_type": "code",
   "execution_count": 58,
   "id": "26269b7c",
   "metadata": {},
   "outputs": [
    {
     "name": "stdout",
     "output_type": "stream",
     "text": [
      "Amount in PKR: 1500.0\n"
     ]
    }
   ],
   "source": [
    "#Answer\n",
    "import re\n",
    "\n",
    "text = \"The product costs PKR 1500, while the deluxe version is priced at Rs. 2500.\"\n",
    "pattern = r'\\bPKR\\s+(\\d+(?:,\\d{3})*(?:\\.\\d{2})?)\\b'\n",
    "\n",
    "matches = re.findall(pattern, text)\n",
    "currency_amounts = [float(match.replace(',', '')) for match in matches]\n",
    "\n",
    "for amount in currency_amounts:\n",
    "    print(\"Amount in PKR:\", amount)\n"
   ]
  },
  {
   "cell_type": "markdown",
   "id": "84e6523f",
   "metadata": {},
   "source": [
    "---\n",
    "### Question 8: Removing Punctuation\n",
    "\n",
    "**Raw Text:**\n",
    "Remove all punctuation marks from a text while preserving Urdu characters.\n",
    "\n",
    "**Example:**\n",
    "```\n",
    "Text: کیا! آپ, یہاں؟\n",
    "```\n",
    "\n"
   ]
  },
  {
   "cell_type": "code",
   "execution_count": 59,
   "id": "138a0115",
   "metadata": {},
   "outputs": [
    {
     "name": "stdout",
     "output_type": "stream",
     "text": [
      "Cleaned Text: کیا آپ یہاں؟\n"
     ]
    }
   ],
   "source": [
    "#Answer\n",
    "import re\n",
    "\n",
    "text = \"کیا! آپ, یہاں؟\"\n",
    "pattern = r'[^\\w\\s\\u0600-\\u06FF]+'\n",
    "cleaned_text = re.sub(pattern, '', text)\n",
    "\n",
    "print(\"Cleaned Text:\", cleaned_text)\n"
   ]
  },
  {
   "cell_type": "markdown",
   "id": "4f072c06",
   "metadata": {},
   "source": [
    "---\n",
    "### Question 9: Extracting City Names\n",
    "\n",
    "**Raw Text:**\n",
    "Extract names of Pakistani cities from a given text.\n",
    "\n",
    "**Example:**\n",
    "```\n",
    "Text: Lahore, Karachi, Islamabad, and Peshawar are major cities of Pakistan.\n",
    "```\n"
   ]
  },
  {
   "cell_type": "code",
   "execution_count": 60,
   "id": "8c7ddaae",
   "metadata": {},
   "outputs": [
    {
     "name": "stdout",
     "output_type": "stream",
     "text": [
      "Extracted City Names: ['Lahore', 'Karachi', 'Islamabad', 'Peshawar']\n"
     ]
    }
   ],
   "source": [
    "#Answer\n",
    "import re\n",
    "\n",
    "text = \"Lahore, Karachi, Islamabad, and Peshawar are major cities of Pakistan.\"\n",
    "city_names = [\"Lahore\", \"Karachi\", \"Islamabad\", \"Peshawar\", \"Rawalpindi\", \"Multan\", \"Faisalabad\",\n",
    "              \"Quetta\", \"Gujranwala\", \"Sialkot\", \"Sargodha\", \"Gujrat\", \"Bahawalpur\", \"Sukkur\", \"Jhang\",\n",
    "              \"Sheikhupura\", \"Mardan\", \"Larkana\", \"Kasur\", \"Rahim Yar Khan\", \"Sahiwal\", \"Okara\", \"Wah\",\n",
    "              \"Dera Ghazi Khan\", \"Mirpur Khas\", \"Nawabshah\", \"Kamoke\", \"Burewala\", \"Jhelum\", \"Sadiqabad\",\n",
    "              \"Khanewal\", \"Hafizabad\", \"Kohat\", \"Jacobabad\", \"Shikarpur\", \"Muzaffargarh\", \"Khanpur\", \"Gojra\",\n",
    "              \"Bahawalnagar\", \"Muridke\", \"Pakpattan\", \"Abottabad\", \"Tando Adam\", \"Khairpur\", \"Chishtian\",\n",
    "              \"Daska\", \"Dera Ismail Khan\", \"Charsadda\", \"Jamshoro\", \"Nowshera\", \"Mandi Bahauddin\", \"Wazirabad\",]\n",
    "pattern = r'\\b(?:' + '|'.join(re.escape(city) for city in city_names) + r')\\b'\n",
    "\n",
    "matches = re.findall(pattern, text, re.IGNORECASE)\n",
    "\n",
    "print(\"Extracted City Names:\", matches)\n"
   ]
  },
  {
   "cell_type": "markdown",
   "id": "c079248f",
   "metadata": {},
   "source": [
    "---\n",
    "### Assignment 10: Analyzing Vehicle Numbers\n",
    "\n",
    "**Raw Text:**\n",
    "Identify and extract Pakistani vehicle registration numbers (e.g., ABC-123) from a text.\n",
    "\n",
    "**Example:**\n",
    "```\n",
    "Text: I saw a car with the number plate LEA-567 near the market.\n",
    "```\n",
    "\n"
   ]
  },
  {
   "cell_type": "code",
   "execution_count": 61,
   "id": "eb2707a4",
   "metadata": {},
   "outputs": [
    {
     "name": "stdout",
     "output_type": "stream",
     "text": [
      "Vehicle Registration Number: LEA-567\n"
     ]
    }
   ],
   "source": [
    "#Answer\n",
    "import re\n",
    "\n",
    "text = \"I saw a car with the number plate LEA-567 near the market.\"\n",
    "pattern = r'\\b[A-Z]{3}-\\d{3}\\b'\n",
    "\n",
    "matches = re.findall(pattern, text)\n",
    "\n",
    "for reg_number in matches:\n",
    "    print(\"Vehicle Registration Number:\", reg_number)\n"
   ]
  },
  {
   "cell_type": "code",
   "execution_count": null,
   "id": "8e5ab898",
   "metadata": {},
   "outputs": [],
   "source": []
  }
 ],
 "metadata": {
  "kernelspec": {
   "display_name": "Python 3 (ipykernel)",
   "language": "python",
   "name": "python3"
  },
  "language_info": {
   "codemirror_mode": {
    "name": "ipython",
    "version": 3
   },
   "file_extension": ".py",
   "mimetype": "text/x-python",
   "name": "python",
   "nbconvert_exporter": "python",
   "pygments_lexer": "ipython3",
   "version": "3.9.13"
  }
 },
 "nbformat": 4,
 "nbformat_minor": 5
}
