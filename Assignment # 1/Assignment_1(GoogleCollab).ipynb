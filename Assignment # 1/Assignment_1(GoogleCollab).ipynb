{
  "nbformat": 4,
  "nbformat_minor": 0,
  "metadata": {
    "colab": {
      "provenance": []
    },
    "kernelspec": {
      "name": "python3",
      "display_name": "Python 3"
    },
    "language_info": {
      "name": "python"
    }
  },
  "cells": [
    {
      "cell_type": "code",
      "execution_count": 5,
      "metadata": {
        "colab": {
          "base_uri": "https://localhost:8080/"
        },
        "id": "-osBxuOWhF5y",
        "outputId": "b9db6855-613d-4535-f695-aec29ca34922"
      },
      "outputs": [
        {
          "output_type": "stream",
          "name": "stdout",
          "text": [
            "Imran Haider Studying in Data Science From NED University\n"
          ]
        }
      ],
      "source": [
        "Name =\"Imran Haider\"\n",
        "Class = \"Data Science\"\n",
        "Uni = \"NED University\"\n",
        "_ = \" \"\n",
        "string=Name+_+\"Studying in\"+_+Class+_+\"From\"+_+Uni\n",
        "print(string)"
      ]
    },
    {
      "cell_type": "code",
      "source": [],
      "metadata": {
        "id": "7HyXP6zthQjR"
      },
      "execution_count": null,
      "outputs": []
    }
  ]
}