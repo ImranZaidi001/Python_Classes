{
 "cells": [
  {
   "cell_type": "markdown",
   "id": "03391eff",
   "metadata": {},
   "source": [
    "# Assignment # 03\n",
    "Python List Manipulation"
   ]
  },
  {
   "cell_type": "markdown",
   "id": "214d4d51",
   "metadata": {},
   "source": [
    "### Question 1: Basic List Operations\n",
    "\n",
    "**a)** Create a list named `fruits` containing the following items: \"apple\", \"banana\", \"orange\", \"grape\", \"kiwi\".\n",
    "\n",
    "**b)** Add \"pear\" to the end of the list.\n",
    "\n",
    "**c)** Insert \"mango\" at the second position in the list.\n",
    "\n",
    "**d)** Remove \"orange\" from the list."
   ]
  },
  {
   "cell_type": "code",
   "execution_count": 6,
   "id": "a1cc8f56",
   "metadata": {},
   "outputs": [
    {
     "data": {
      "text/plain": [
       "['apple', 'banana', 'orange', 'grape', 'kiwi']"
      ]
     },
     "execution_count": 6,
     "metadata": {},
     "output_type": "execute_result"
    }
   ],
   "source": [
    "#a) creating of list\n",
    "fruits = [\"apple\", \"banana\", \"orange\", \"grape\", \"kiwi\"]\n",
    "fruits"
   ]
  },
  {
   "cell_type": "code",
   "execution_count": 9,
   "id": "1fa23a19",
   "metadata": {},
   "outputs": [
    {
     "data": {
      "text/plain": [
       "['apple', 'banana', 'orange', 'grape', 'kiwi', 'pear', 'pear']"
      ]
     },
     "execution_count": 9,
     "metadata": {},
     "output_type": "execute_result"
    }
   ],
   "source": [
    "#b) insertion of pear at the end of the list\n",
    "fruits.append(\"pear\")\n",
    "fruits"
   ]
  },
  {
   "cell_type": "code",
   "execution_count": 10,
   "id": "4888d666",
   "metadata": {},
   "outputs": [
    {
     "name": "stdout",
     "output_type": "stream",
     "text": [
      "['apple', 'mango', 'banana', 'orange', 'grape', 'kiwi', 'pear', 'pear']\n"
     ]
    }
   ],
   "source": [
    "#c) insertion of mango in the 1st index of the list fruits\n",
    "fruits.insert(1, \"mango\")\n",
    "print(fruits)"
   ]
  },
  {
   "cell_type": "code",
   "execution_count": 22,
   "id": "9be3ad80",
   "metadata": {},
   "outputs": [
    {
     "name": "stdout",
     "output_type": "stream",
     "text": [
      "['apple', 'mango', 'banana', 'grape', 'kiwi', 'pear', 'pear']\n"
     ]
    }
   ],
   "source": [
    "#d) removing Orange from the list\n",
    "fruits.remove(\"orange\")\n",
    "print(fruits)"
   ]
  },
  {
   "cell_type": "markdown",
   "id": "13719b29",
   "metadata": {},
   "source": [
    "### Question 2: Slicing and Indexing\n",
    "\n",
    "**a)** Create a list named `numbers` containing the integers from 0 to 9.\n",
    "\n",
    "**b)** Print the element at index 3.\n",
    "\n",
    "**c)** Print a sublist containing the elements from index 2 to 6 (inclusive).\n",
    "\n",
    "**d)** Print the last three elements using negative indexing.\n"
   ]
  },
  {
   "cell_type": "code",
   "execution_count": 23,
   "id": "a17570d4",
   "metadata": {},
   "outputs": [
    {
     "name": "stdout",
     "output_type": "stream",
     "text": [
      "[0, 1, 2, 3, 4, 5, 6, 7, 8, 9]\n"
     ]
    }
   ],
   "source": [
    "#a) creating list from 0 to 9 integers\n",
    "\n",
    "numbers = [0,1,2,3,4,5,6,7,8,9]\n",
    "print(numbers)"
   ]
  },
  {
   "cell_type": "code",
   "execution_count": 25,
   "id": "b84b11e0",
   "metadata": {},
   "outputs": [
    {
     "name": "stdout",
     "output_type": "stream",
     "text": [
      "3\n"
     ]
    }
   ],
   "source": [
    "#b) printing the element at the 3rd index number of the list\n",
    "\n",
    "print(numbers[3])"
   ]
  },
  {
   "cell_type": "code",
   "execution_count": 28,
   "id": "3656d411",
   "metadata": {},
   "outputs": [
    {
     "name": "stdout",
     "output_type": "stream",
     "text": [
      "[2, 3, 4, 5, 6]\n"
     ]
    }
   ],
   "source": [
    "#c) printing a sublist with the elements from 2 to 6\n",
    "\n",
    "sublist = numbers [2:7]\n",
    "\n",
    "print(sublist)"
   ]
  },
  {
   "cell_type": "code",
   "execution_count": 41,
   "id": "b7682c76",
   "metadata": {},
   "outputs": [
    {
     "name": "stdout",
     "output_type": "stream",
     "text": [
      "[7, 8, 9]\n",
      "[9, 8, 7]\n"
     ]
    }
   ],
   "source": [
    "#d) printing last 3 elements with the use of negative indexing\n",
    "\n",
    "last_three = numbers[-3:] # asc\n",
    "\n",
    "print(last_three)\n",
    "\n",
    "three_last = numbers[-1:-4:-1] # desc\n",
    "\n",
    "print (three_last)"
   ]
  },
  {
   "cell_type": "markdown",
   "id": "d7fe533a",
   "metadata": {},
   "source": [
    "### Question 3: List Comprehension\n",
    "\n",
    "**a)** Create a list named `squares` using a list comprehension that contains the squares of numbers from 1 to 10.\n",
    "\n",
    "**b)** Create a new list named `even_squares` using a list comprehension that contains the squares of even numbers from the `squares` list.\n"
   ]
  },
  {
   "cell_type": "code",
   "execution_count": 42,
   "id": "0898c866",
   "metadata": {},
   "outputs": [
    {
     "name": "stdout",
     "output_type": "stream",
     "text": [
      "[1, 4, 9, 16, 25, 36, 49, 64, 81, 100]\n"
     ]
    }
   ],
   "source": [
    "#a) creaing a list comprehension with the numbers from 1 to 10 \n",
    "\n",
    "squares = [i*i for i in range(1,11)]\n",
    "print(squares)\n"
   ]
  },
  {
   "cell_type": "code",
   "execution_count": 43,
   "id": "e228bb24",
   "metadata": {},
   "outputs": [
    {
     "name": "stdout",
     "output_type": "stream",
     "text": [
      "[4, 16, 36, 64, 100]\n"
     ]
    }
   ],
   "source": [
    "#b) creating a list for even squares\n",
    "\n",
    "even_squares = [i for i in squares if i%2 == 0]\n",
    "\n",
    "print(even_squares)"
   ]
  },
  {
   "cell_type": "markdown",
   "id": "91c72b9e",
   "metadata": {},
   "source": [
    "### Question 4: List Manipulation\n",
    "\n",
    "**a)** Create a list named `colors` containing the following items: \"red\", \"green\", \"blue\", \"yellow\", \"purple\".\n",
    "\n",
    "**b)** Swap the first and last elements of the list.\n",
    "\n",
    "**c)** Reverse the order of the list.\n",
    "\n",
    "**d)** Remove the second and third elements from the list.\n"
   ]
  },
  {
   "cell_type": "code",
   "execution_count": 48,
   "id": "d7b01e1c",
   "metadata": {},
   "outputs": [
    {
     "name": "stdout",
     "output_type": "stream",
     "text": [
      "['red', 'green', 'blue', 'yellow', 'purple']\n"
     ]
    }
   ],
   "source": [
    "#a) creating a list with the colors name\n",
    "\n",
    "colors = [\"red\", \"green\", \"blue\", \"yellow\", \"purple\"]\n",
    "print(colors)"
   ]
  },
  {
   "cell_type": "code",
   "execution_count": 49,
   "id": "c10c94b8",
   "metadata": {},
   "outputs": [
    {
     "name": "stdout",
     "output_type": "stream",
     "text": [
      "['purple', 'green', 'blue', 'yellow', 'red']\n"
     ]
    }
   ],
   "source": [
    "#b) Swaping first with the last element using index numbers\n",
    "\n",
    "colors[0], colors[4] = colors[4], colors[0] \n",
    "\n",
    "print(colors)"
   ]
  },
  {
   "cell_type": "code",
   "execution_count": 50,
   "id": "fb854268",
   "metadata": {},
   "outputs": [
    {
     "name": "stdout",
     "output_type": "stream",
     "text": [
      "['red', 'yellow', 'blue', 'green', 'purple']\n"
     ]
    }
   ],
   "source": [
    "#c) Revering the order of the list\n",
    "\n",
    "colors.reverse()\n",
    "print (colors)"
   ]
  },
  {
   "cell_type": "code",
   "execution_count": 51,
   "id": "9093dd49",
   "metadata": {},
   "outputs": [
    {
     "name": "stdout",
     "output_type": "stream",
     "text": [
      "['red', 'green', 'purple']\n"
     ]
    }
   ],
   "source": [
    "#d) removing 2nd and 3rd element from the list\n",
    "\n",
    "del colors[1:3]\n",
    "\n",
    "print(colors)"
   ]
  },
  {
   "cell_type": "markdown",
   "id": "e9d24eb2",
   "metadata": {},
   "source": [
    "### Question 5: Advanced Slicing\n",
    "\n",
    "**a)** Create a list named `letters` containing the letters from 'a' to 'j'.\n",
    "\n",
    "**b)** Using slicing, create a new list `first_half` containing the first half of the `letters` list.\n",
    "\n",
    "**c)** Using slicing, create a new list `last_three` containing the last three elements of the `letters` list.\n"
   ]
  },
  {
   "cell_type": "code",
   "execution_count": 54,
   "id": "5668e6c7",
   "metadata": {},
   "outputs": [
    {
     "name": "stdout",
     "output_type": "stream",
     "text": [
      "['a', 'b', 'c', 'd', 'e', 'f', 'g', 'h', 'i', 'j']\n"
     ]
    }
   ],
   "source": [
    "#a) creating a letter named list with elements from a to j\n",
    "\n",
    "letters = [chr(letters) for letters in range(97, 107)]         \n",
    "print(letters)"
   ]
  },
  {
   "cell_type": "code",
   "execution_count": 55,
   "id": "e46c6e59",
   "metadata": {},
   "outputs": [
    {
     "name": "stdout",
     "output_type": "stream",
     "text": [
      "['a', 'b', 'c', 'd', 'e']\n"
     ]
    }
   ],
   "source": [
    "#b)creating a first_half named list containing half of the letters\n",
    "\n",
    "first_half = letters[:len(letters)//2]          \n",
    "\n",
    "print(first_half)"
   ]
  },
  {
   "cell_type": "code",
   "execution_count": 56,
   "id": "d49f16b0",
   "metadata": {},
   "outputs": [
    {
     "name": "stdout",
     "output_type": "stream",
     "text": [
      "['h', 'i', 'j']\n"
     ]
    }
   ],
   "source": [
    "#c) slicing last three letters from the list\n",
    "\n",
    "last_three = letters[7:]\n",
    "\n",
    "print(last_three)"
   ]
  },
  {
   "cell_type": "markdown",
   "id": "33189bb3",
   "metadata": {},
   "source": [
    "### Question 6: Nested Lists\n",
    "\n",
    "**a)** Create a nested list named `matrix` with the following rows:\n",
    "   - [1, 2, 3]\n",
    "   - [4, 5, 6]\n",
    "   - [7, 8, 9]\n",
    "\n",
    "**b)** Print the element in the second row and third column.\n",
    "\n",
    "**c)** Use nested indexing to change the value at the second row and first column to 0.\n"
   ]
  },
  {
   "cell_type": "code",
   "execution_count": 57,
   "id": "e8fdafe3",
   "metadata": {},
   "outputs": [
    {
     "name": "stdout",
     "output_type": "stream",
     "text": [
      "[1, 2, 3]\n",
      "[4, 5, 6]\n",
      "[7, 8, 9]\n"
     ]
    }
   ],
   "source": [
    "#a) creating nested list matrix\n",
    "\n",
    "matrix = [[1, 2, 3], [4, 5, 6], [7, 8, 9]]\n",
    "\n",
    "for i in matrix:\n",
    "    print(i)"
   ]
  },
  {
   "cell_type": "code",
   "execution_count": 58,
   "id": "d97c694a",
   "metadata": {},
   "outputs": [
    {
     "name": "stdout",
     "output_type": "stream",
     "text": [
      "6\n"
     ]
    }
   ],
   "source": [
    "#b) printing an element from  2nd row and 3rd col.\n",
    "print(matrix[1][2])"
   ]
  },
  {
   "cell_type": "code",
   "execution_count": 59,
   "id": "595721eb",
   "metadata": {},
   "outputs": [
    {
     "name": "stdout",
     "output_type": "stream",
     "text": [
      "[1, 2, 3]\n",
      "[0, 5, 6]\n",
      "[7, 8, 9]\n"
     ]
    }
   ],
   "source": [
    "#c) Changing the value at the second row and first column to 0.\n",
    "\n",
    "matrix[1][0] = 0\n",
    "\n",
    "for i in matrix:\n",
    "    print(i)\n"
   ]
  },
  {
   "cell_type": "code",
   "execution_count": null,
   "id": "06961a0d",
   "metadata": {},
   "outputs": [],
   "source": []
  }
 ],
 "metadata": {
  "kernelspec": {
   "display_name": "Python 3 (ipykernel)",
   "language": "python",
   "name": "python3"
  },
  "language_info": {
   "codemirror_mode": {
    "name": "ipython",
    "version": 3
   },
   "file_extension": ".py",
   "mimetype": "text/x-python",
   "name": "python",
   "nbconvert_exporter": "python",
   "pygments_lexer": "ipython3",
   "version": "3.9.13"
  }
 },
 "nbformat": 4,
 "nbformat_minor": 5
}
